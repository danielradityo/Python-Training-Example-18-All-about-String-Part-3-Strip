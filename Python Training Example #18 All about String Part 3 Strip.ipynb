{
 "cells": [
  {
   "cell_type": "markdown",
   "metadata": {},
   "source": [
    "# Python Training Example #18 All about String Part 3 Strip"
   ]
  },
  {
   "cell_type": "markdown",
   "metadata": {},
   "source": [
    "## Access string"
   ]
  },
  {
   "cell_type": "code",
   "execution_count": 7,
   "metadata": {},
   "outputs": [
    {
     "name": "stdout",
     "output_type": "stream",
     "text": [
      "Hello! My name is Daniel Radityo\n",
      "Hello! My name is Daniel Radityo \n",
      " Hello! My name is Daniel Radityo\n"
     ]
    }
   ],
   "source": [
    "# Create string and then strip it\n",
    "intro = ' Hello! My name is Daniel Radityo '\n",
    "print(intro.strip()) #--> will strip first and last space\n",
    "print(intro.lstrip()) #--> will strip first space (left strip)\n",
    "print(intro.rstrip()) #--> will strip last space (right strip)"
   ]
  },
  {
   "cell_type": "code",
   "execution_count": null,
   "metadata": {},
   "outputs": [],
   "source": []
  }
 ],
 "metadata": {
  "kernelspec": {
   "display_name": "Python 3",
   "language": "python",
   "name": "python3"
  },
  "language_info": {
   "codemirror_mode": {
    "name": "ipython",
    "version": 3
   },
   "file_extension": ".py",
   "mimetype": "text/x-python",
   "name": "python",
   "nbconvert_exporter": "python",
   "pygments_lexer": "ipython3",
   "version": "3.8.5"
  }
 },
 "nbformat": 4,
 "nbformat_minor": 4
}
